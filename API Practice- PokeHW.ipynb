{
 "cells": [
  {
   "cell_type": "markdown",
   "id": "3e546b61",
   "metadata": {},
   "source": [
    "<p> HW Part 1, imoprt r request with api end point, saving to list</p>\n",
    "#### Getting attributes from the api's end point following the nesting of lists and dics"
   ]
  },
  {
   "cell_type": "code",
   "execution_count": 5,
   "id": "667afc39",
   "metadata": {},
   "outputs": [
    {
     "name": "stdout",
     "output_type": "stream",
     "text": [
      "{'name': 'entei', 'types': 'fire', 'abilities': ['pressure', 'inner-focus'], 'weight': 1980}\n"
     ]
    }
   ],
   "source": [
    "import requests as r # often requests is imported under the alias r\n",
    "pokemon1 = r.get(\"https://pokeapi.co/api/v2/pokemon/entei\")\n",
    "      \n",
    "if pokemon1.status_code == 200:\n",
    "    my_data = pokemon1.json()\n",
    "    pokemon1 = {}\n",
    "    \n",
    "    #name\n",
    "    for types in my_data ['types']:\n",
    "        pokemon1['name'] = my_data['name']\n",
    "        pokemon1['types'] = types ['type']['name'] \n",
    "    \n",
    "    list_a = []\n",
    "    for ability in my_data['abilities']:\n",
    "        list_a.append(ability['ability']['name'])\n",
    "        pokemon1['abilities']= list_a\n",
    "\n",
    "    #weight\n",
    "    pokemon1 ['weight']= my_data ['weight']\n",
    "    \n",
    "    \n",
    "        \n",
    "else:\n",
    "    print('Sorry, API call unsuccessful!')\n",
    "\n",
    "    \n",
    "    \n",
    "print(pokemon1)"
   ]
  },
  {
   "cell_type": "code",
   "execution_count": 17,
   "id": "e5b0810f",
   "metadata": {},
   "outputs": [],
   "source": [
    "#### HW Part 2"
   ]
  },
  {
   "cell_type": "code",
   "execution_count": null,
   "id": "2bd0c25d",
   "metadata": {},
   "outputs": [],
   "source": [
    "#### Getting attributes from the api's end point for 20!\n",
    "#1 getting "
   ]
  },
  {
   "cell_type": "code",
   "execution_count": 12,
   "id": "82827eeb",
   "metadata": {},
   "outputs": [
    {
     "name": "stdout",
     "output_type": "stream",
     "text": [
      "entei\n"
     ]
    }
   ],
   "source": [
    "name = my_data['name']\n",
    "print(name) #checking name is printing"
   ]
  },
  {
   "cell_type": "code",
   "execution_count": 14,
   "id": "30e4a0ef",
   "metadata": {},
   "outputs": [
    {
     "name": "stdout",
     "output_type": "stream",
     "text": [
      "1980\n"
     ]
    }
   ],
   "source": [
    "weight = my_data ['weight']\n",
    "print(weight) #checking weight will prnt"
   ]
  },
  {
   "cell_type": "code",
   "execution_count": 15,
   "id": "dcb44edb",
   "metadata": {},
   "outputs": [
    {
     "name": "stdout",
     "output_type": "stream",
     "text": [
      "['pressure', 'inner-focus']\n"
     ]
    }
   ],
   "source": [
    "ability = list_a\n",
    "print(list_a) #checking ot print combined abilities"
   ]
  },
  {
   "cell_type": "code",
   "execution_count": 21,
   "id": "ab8efb93",
   "metadata": {},
   "outputs": [
    {
     "ename": "SyntaxError",
     "evalue": "invalid syntax (<ipython-input-21-898301f63d3e>, line 13)",
     "output_type": "error",
     "traceback": [
      "\u001b[0;36m  File \u001b[0;32m\"<ipython-input-21-898301f63d3e>\"\u001b[0;36m, line \u001b[0;32m13\u001b[0m\n\u001b[0;31m    'types': [x]['ability']['name']for x in data ['ability']\u001b[0m\n\u001b[0m    ^\u001b[0m\n\u001b[0;31mSyntaxError\u001b[0m\u001b[0;31m:\u001b[0m invalid syntax\n"
     ]
    }
   ],
   "source": [
    "#lookin in my abiltiie list i want to loop through any name for any pokemon\n",
    "\n",
    "def pokeAPIicall(pokemon): \n",
    "    import requests as r\n",
    "    req = r.get(f'https://pokeapi.co/api/v2/pokemon/{pokemon}') #f string w/ pokemon call as variable\n",
    "    if req.status_code == 200:\n",
    "        data = req.json()\n",
    "    else:\n",
    "        return req.status_code # send back the error code if something went wrong\n",
    "    \n",
    "    pokedict = { #accesing for all pokemon\n",
    "    'name': data ['name']\n",
    "    'types': [x]['ability']['name']for x in data ['ability'] \n",
    "    'abilities': [x['abilitiy']['name'] for x in data ['ability']],\n",
    "    'weight': data['weight']\n",
    "    }\n",
    "    return pokdedict\n",
    "charmander = pokeAPIcall('charmander')\n",
    "\n",
    "#unsure of where I'm pulling the wrong"
   ]
  },
  {
   "cell_type": "code",
   "execution_count": null,
   "id": "48376e8b",
   "metadata": {},
   "outputs": [],
   "source": []
  }
 ],
 "metadata": {
  "interpreter": {
   "hash": "aee8b7b246df8f9039afb4144a1f6fd8d2ca17a180786b69acc140d282b71a49"
  },
  "kernelspec": {
   "display_name": "Python 3",
   "language": "python",
   "name": "python3"
  },
  "language_info": {
   "codemirror_mode": {
    "name": "ipython",
    "version": 3
   },
   "file_extension": ".py",
   "mimetype": "text/x-python",
   "name": "python",
   "nbconvert_exporter": "python",
   "pygments_lexer": "ipython3",
   "version": "3.8.8"
  }
 },
 "nbformat": 4,
 "nbformat_minor": 5
}
